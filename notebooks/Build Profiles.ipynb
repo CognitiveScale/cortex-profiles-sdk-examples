{
 "cells": [
  {
   "cell_type": "code",
   "execution_count": null,
   "id": "f5f36b5c",
   "metadata": {},
   "outputs": [],
   "source": [
    "#Create Spark Session\n",
    "from pyspark.sql import SparkSession\n",
    "from cortex import configure_spark_with_cortex_pip\n",
    "\n",
    "builder = SparkSession.builder \\\n",
    "            .appName(\"Streaming Datasource Example\") \\\n",
    "            .master('local[*]') \\\n",
    "            .config(\"spark.ui.enabled\", \"false\") \\\n",
    "            .config(\"spark.sql.extensions\", \"io.delta.sql.DeltaSparkSessionExtension\") \\\n",
    "            .config(\"spark.sql.catalog.spark_catalog\",\"org.apache.spark.sql.delta.catalog.DeltaCatalog\") \\\n",
    "            .config(\"spark.delta.logStore.gs.impl\", \"io.delta.storage.GCSLogStore\") \\\n",
    "            .config(\"spark.jars.ivySettings\", \"ivy.settings\") \\\n",
    "            .config(\"spark.cortex.proxy.impl\", \"com.c12e.cortex.profiles.intercept.TracingTimingMethodInterceptor\")\n",
    "spark = configure_spark_with_cortex_pip(builder).getOrCreate()"
   ]
  },
  {
   "cell_type": "code",
   "execution_count": null,
   "id": "699992fe",
   "metadata": {},
   "outputs": [],
   "source": [
    "from cortex.profiles.session import StorageOverrideBuilder\n",
    "from cortex.profiles.session import CortexSession\n",
    "\n",
    "sensaBuilder = CortexSession.sensaSessionBuilder(spark).standalone(\n",
    "        catalogDir = \"./spec\",\n",
    "        secretsJson = \"{'local':{'secret-key':'myValue'}}\",\n",
    "        overrideStorageConfig = StorageOverrideBuilder.getInstance(spark).withFile(\"cortex-profiles\", \"../build/tmp/ingest\")\n",
    "    )"
   ]
  },
  {
   "cell_type": "code",
   "execution_count": null,
   "id": "46717232",
   "metadata": {},
   "outputs": [],
   "source": [
    "#Create Cortex Session\n",
    "from cortex.profiles.session import CortexSession\n",
    "sensa = CortexSession.newSession(sparkSession=spark, options= sensaBuilder.buildWithSparkOverride())"
   ]
  },
  {
   "cell_type": "code",
   "execution_count": null,
   "id": "72f5a04c",
   "metadata": {},
   "outputs": [],
   "source": [
    "project = \"local\"\n",
    "profile_schema_name = \"member-profile\""
   ]
  },
  {
   "cell_type": "code",
   "execution_count": null,
   "id": "e348e31b",
   "metadata": {},
   "outputs": [],
   "source": [
    "profileSchema = sensa.catalog().getProfileSchema(project, profile_schema_name)"
   ]
  },
  {
   "cell_type": "code",
   "execution_count": null,
   "id": "84d88383",
   "metadata": {},
   "outputs": [],
   "source": [
    "from py4j import java_gateway\n",
    "from cortex.profiles.java import Supplier\n",
    "\n",
    "job = sensa.job().ingestDataSource(project, profileSchema.getPrimarySource().getName(), sensa.getContext())\n",
    "job.performFeatureCatalogCalculations(Supplier(lambda : True))\n",
    "job.java.setQueryVariables(dict({}))\n",
    "job.run()"
   ]
  },
  {
   "cell_type": "code",
   "execution_count": null,
   "id": "ccd97490",
   "metadata": {},
   "outputs": [],
   "source": [
    "for join in profileSchema.getJoins(): \n",
    "    ingestJoin = sensa.job().ingestDataSource(project, join.getName(), sensa.getContext());\n",
    "    ingestJoin.performFeatureCatalogCalculations(Supplier(lambda : True))\n",
    "    ingestJoin.run()\n"
   ]
  },
  {
   "cell_type": "code",
   "execution_count": null,
   "id": "f6f6245f",
   "metadata": {},
   "outputs": [],
   "source": [
    "from py4j import java_gateway\n",
    "\n",
    "buildProfileJob = sensa.job().buildProfile(project, profile_schema_name, sensa.getContext());\n",
    "java_gateway.set_field(buildProfileJob.java, 'performFeatureCatalogCalculations', Supplier(lambda : True))\n",
    "buildProfileJob.run()"
   ]
  },
  {
   "cell_type": "code",
   "execution_count": null,
   "id": "19a57522",
   "metadata": {},
   "outputs": [],
   "source": [
    "sensa.read().profile(project, profile_schema_name).load().toDF().show(10)"
   ]
  },
  {
   "cell_type": "code",
   "execution_count": null,
   "id": "fb5e238a",
   "metadata": {},
   "outputs": [],
   "source": []
  }
 ],
 "metadata": {
  "kernelspec": {
   "display_name": "_test_me2",
   "language": "python",
   "name": "_test_me2"
  },
  "language_info": {
   "codemirror_mode": {
    "name": "ipython",
    "version": 3
   },
   "file_extension": ".py",
   "mimetype": "text/x-python",
   "name": "python",
   "nbconvert_exporter": "python",
   "pygments_lexer": "ipython3",
   "version": "3.8.16"
  }
 },
 "nbformat": 4,
 "nbformat_minor": 5
}
