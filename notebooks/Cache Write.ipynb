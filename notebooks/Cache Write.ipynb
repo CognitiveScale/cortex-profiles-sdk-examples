{
 "cells": [
  {
   "cell_type": "code",
   "execution_count": null,
   "id": "f5f36b5c",
   "metadata": {},
   "outputs": [],
   "source": [
    "#Create Spark Session\n",
    "from pyspark.sql import SparkSession\n",
    "from cortex import configure_spark_with_cortex_pip\n",
    "\n",
    "builder = SparkSession.builder \\\n",
    "            .appName(\"Streaming Datasource Example\") \\\n",
    "            .master('local[*]') \\\n",
    "            .config(\"spark.ui.enabled\", \"false\") \\\n",
    "            .config(\"spark.sql.extensions\", \"io.delta.sql.DeltaSparkSessionExtension\") \\\n",
    "            .config(\"spark.sql.catalog.spark_catalog\",\"org.apache.spark.sql.delta.catalog.DeltaCatalog\") \\\n",
    "            .config(\"spark.delta.logStore.gs.impl\", \"io.delta.storage.GCSLogStore\") \\\n",
    "            .config(\"spark.jars.ivySettings\", \"ivy.settings\") \\\n",
    "            .config(\"spark.cortex.proxy.impl\", \"com.c12e.cortex.profiles.intercept.TracingTimingMethodInterceptor\")\n",
    "spark = configure_spark_with_cortex_pip(builder).getOrCreate()"
   ]
  },
  {
   "cell_type": "code",
   "execution_count": null,
   "id": "699992fe",
   "metadata": {},
   "outputs": [],
   "source": [
    "from cortex.profiles.session import StorageOverrideBuilder\n",
    "from cortex.profiles.session import CortexSession\n",
    "\n",
    "sensaBuilder = CortexSession.sensaSessionBuilder(spark).standalone(\n",
    "        catalogDir = \"./spec\",\n",
    "        secretsJson = \"{'testProject':{'mySecret':'myValue'}}\",\n",
    "        overrideStorageConfig = StorageOverrideBuilder.getInstance(spark).withFile(\"cortex-profiles\", \"../build/tmp/ingest\")\n",
    "    )"
   ]
  },
  {
   "cell_type": "code",
   "execution_count": null,
   "id": "46717232",
   "metadata": {},
   "outputs": [],
   "source": [
    "#Create Cortex Session\n",
    "from cortex.profiles.session import CortexSession\n",
    "sensa = CortexSession.newSession(sparkSession=spark, options= sensaBuilder.buildWithSparkOverride())"
   ]
  },
  {
   "cell_type": "code",
   "execution_count": null,
   "id": "72f5a04c",
   "metadata": {},
   "outputs": [],
   "source": [
    "project = \"local\"\n",
    "profile_schema_name = \"member-profile\""
   ]
  },
  {
   "cell_type": "code",
   "execution_count": null,
   "id": "84d88383",
   "metadata": {},
   "outputs": [],
   "source": [
    "from py4j import java_gateway\n",
    "from cortex.profiles.java import Supplier\n",
    "\n",
    "profileData = sensa.read().profile(project, profile_schema_name).load().toDF()"
   ]
  },
  {
   "cell_type": "code",
   "execution_count": null,
   "id": "19a57522",
   "metadata": {},
   "outputs": [],
   "source": [
    "profileData.write().format(\"org.apache.spark.sql.redis\")\n",
    "    .option(\"table\", profile_schema_name)\n",
    "    .option(\"key.column\", \"profile_id\")\n",
    "    .mode(\"Append\")\n",
    "    .save();"
   ]
  },
  {
   "cell_type": "code",
   "execution_count": null,
   "id": "fb5e238a",
   "metadata": {},
   "outputs": [],
   "source": []
  }
 ],
 "metadata": {
  "kernelspec": {
   "display_name": "_test_me2",
   "language": "python",
   "name": "_test_me2"
  },
  "language_info": {
   "codemirror_mode": {
    "name": "ipython",
    "version": 3
   },
   "file_extension": ".py",
   "mimetype": "text/x-python",
   "name": "python",
   "nbconvert_exporter": "python",
   "pygments_lexer": "ipython3",
   "version": "3.8.16"
  }
 },
 "nbformat": 4,
 "nbformat_minor": 5
}
